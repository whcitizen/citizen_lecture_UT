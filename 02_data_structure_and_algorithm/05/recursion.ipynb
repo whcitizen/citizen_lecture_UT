{
 "cells": [
  {
   "cell_type": "markdown",
   "metadata": {},
   "source": [
    "# 再帰と分割統治法"
   ]
  },
  {
   "cell_type": "markdown",
   "metadata": {},
   "source": [
    "## 最大値発見と最大公約数発見を再帰で表現"
   ]
  },
  {
   "cell_type": "markdown",
   "metadata": {},
   "source": [
    "まず，単純な例として，最大値の発見を再帰関数（再帰アルゴリズム）で表現してみる．\n",
    "ちなみにPythonには最大値を返す関数maxが用意されているので，実用的な意味は全く無い．"
   ]
  },
  {
   "cell_type": "code",
   "execution_count": 1,
   "metadata": {
    "collapsed": false
   },
   "outputs": [],
   "source": [
    "def max_recursive(X):\n",
    "    if len(X) == 1:\n",
    "        return X[0]\n",
    "    else:\n",
    "        return max(max_recursive(X[:-1]), X[-1])"
   ]
  },
  {
   "cell_type": "markdown",
   "metadata": {},
   "source": [
    "上記の定義において，標準関数maxを使ってしまっているが，あまり深く考えないことにする．\n",
    "\n",
    "次に10以上99以下の整数を10個ランダムに用意する．"
   ]
  },
  {
   "cell_type": "code",
   "execution_count": 2,
   "metadata": {
    "collapsed": true
   },
   "outputs": [],
   "source": [
    "import random\n",
    "X = [random.randint(10, 99) for i in range(10)]"
   ]
  },
  {
   "cell_type": "code",
   "execution_count": 3,
   "metadata": {
    "collapsed": false
   },
   "outputs": [
    {
     "data": {
      "text/plain": [
       "[30, 79, 38, 59, 48, 45, 94, 60, 20, 67]"
      ]
     },
     "execution_count": 3,
     "metadata": {},
     "output_type": "execute_result"
    }
   ],
   "source": [
    "X"
   ]
  },
  {
   "cell_type": "markdown",
   "metadata": {},
   "source": [
    "この整数の集合を引数として，先程定義した再帰関数max_recursiveを実行してみる．"
   ]
  },
  {
   "cell_type": "code",
   "execution_count": 4,
   "metadata": {
    "collapsed": false
   },
   "outputs": [
    {
     "data": {
      "text/plain": [
       "94"
      ]
     },
     "execution_count": 4,
     "metadata": {},
     "output_type": "execute_result"
    }
   ],
   "source": [
    "max_recursive(X)"
   ]
  },
  {
   "cell_type": "markdown",
   "metadata": {},
   "source": [
    "確かに最大値が返された．\n",
    "\n",
    "次に，再帰版ユークリッドの互除法を定義してみる．\n",
    "「動作観察用」とある行は，動作の様子を見るためだけの命令であり，アルゴリズムの本質とは関係ない．"
   ]
  },
  {
   "cell_type": "code",
   "execution_count": 5,
   "metadata": {
    "collapsed": true
   },
   "outputs": [],
   "source": [
    "def euclid_recursive(x, y):  \n",
    "    if y == 0:\n",
    "        print('euclid_recursive(%d, %d) returns %d' % (x, y, x)) # 動作観察用\n",
    "        return x\n",
    "    else:\n",
    "        print('euclid_recursive(%d, %d) calls euclid_recursive(%d, %d)' % (x, y, y, x % y)) # 動作観察用\n",
    "        return euclid_recursive(y, x % y)"
   ]
  },
  {
   "cell_type": "markdown",
   "metadata": {},
   "source": [
    "関数を定義したので，具体的な引数を与えて試してみる．"
   ]
  },
  {
   "cell_type": "code",
   "execution_count": 6,
   "metadata": {
    "collapsed": false
   },
   "outputs": [
    {
     "name": "stdout",
     "output_type": "stream",
     "text": [
      "euclid_recursive(10807, 10403) calls euclid_recursive(10403, 404)\n",
      "euclid_recursive(10403, 404) calls euclid_recursive(404, 303)\n",
      "euclid_recursive(404, 303) calls euclid_recursive(303, 101)\n",
      "euclid_recursive(303, 101) calls euclid_recursive(101, 0)\n",
      "euclid_recursive(101, 0) returns 101\n"
     ]
    },
    {
     "data": {
      "text/plain": [
       "101"
      ]
     },
     "execution_count": 6,
     "metadata": {},
     "output_type": "execute_result"
    }
   ],
   "source": [
    "euclid_recursive(10807, 10403)"
   ]
  },
  {
   "cell_type": "markdown",
   "metadata": {},
   "source": [
    "最大公約数が見つかった．\n",
    "そして，再帰的に関数をよびだしている様子もわかった．"
   ]
  },
  {
   "cell_type": "markdown",
   "metadata": {},
   "source": [
    "## マージソート"
   ]
  },
  {
   "cell_type": "markdown",
   "metadata": {},
   "source": [
    "マージソートを実装するため，まず，ソート済みの2つの数値列を引数として受け取り，合わせてソート済みの数値列を返す関数mergeを定義する．\n"
   ]
  },
  {
   "cell_type": "code",
   "execution_count": 7,
   "metadata": {
    "collapsed": true
   },
   "outputs": [],
   "source": [
    "def merge(X, Y, chatty=False):\n",
    "    if len(X) == 0:\n",
    "        if chatty: print('%s, %s --> %s' % (str(X), str(Y), str(Y))) # 動作観察用\n",
    "        return Y\n",
    "    elif len(Y) == 0:\n",
    "        if chatty: print('%s, %s --> %s' % (str(X), str(Y), str(X))) # 動作観察用\n",
    "        return X\n",
    "    elif X[0] < Y[0]:\n",
    "        if chatty: print('%s, %s --> %s + merge(%s, %s)' % (str(X), str(Y), str(X[0:1]), str(X[1:]), str(Y))) # 動作観察用\n",
    "        Z = X[0:1] + merge(X[1:], Y, chatty)\n",
    "        if chatty: print('%s + merge(%s, %s) --> %s' % (str(X[0:1]), str(X[1:]), str(Y), str(Z))) # 動作観察用\n",
    "        return Z\n",
    "    else:\n",
    "        if chatty: print('%s, %s --> %s + merge(%s, %s)' % (str(X), str(Y), str(Y[0:1]), str(X), str(Y[1:]))) # 動作観察用\n",
    "        Z = Y[0:1] + merge(X, Y[1:], chatty)\n",
    "        if chatty: print('%s + merge(%s, %s) --> %s' % (str(Y[0:1]), str(X), str(Y[1:]), str(Z))) # 動作観察用\n",
    "        return Z"
   ]
  },
  {
   "cell_type": "code",
   "execution_count": 8,
   "metadata": {
    "collapsed": false
   },
   "outputs": [
    {
     "name": "stdout",
     "output_type": "stream",
     "text": [
      "[2, 8] [3, 7]\n"
     ]
    }
   ],
   "source": [
    "X = [random.randint(0, 9) for i in range(2)]\n",
    "Y = [random.randint(0, 9) for i in range(2)]\n",
    "X.sort()\n",
    "Y.sort()\n",
    "print(X, Y)"
   ]
  },
  {
   "cell_type": "markdown",
   "metadata": {},
   "source": [
    "動作観察用の表示ありで実行してみる．"
   ]
  },
  {
   "cell_type": "code",
   "execution_count": 9,
   "metadata": {
    "collapsed": false
   },
   "outputs": [
    {
     "name": "stdout",
     "output_type": "stream",
     "text": [
      "[2, 8], [3, 7] --> [2] + merge([8], [3, 7])\n",
      "[8], [3, 7] --> [3] + merge([8], [7])\n",
      "[8], [7] --> [7] + merge([8], [])\n",
      "[8], [] --> [8]\n",
      "[7] + merge([8], []) --> [7, 8]\n",
      "[3] + merge([8], [7]) --> [3, 7, 8]\n",
      "[2] + merge([8], [3, 7]) --> [2, 3, 7, 8]\n"
     ]
    },
    {
     "data": {
      "text/plain": [
       "[2, 3, 7, 8]"
      ]
     },
     "execution_count": 9,
     "metadata": {},
     "output_type": "execute_result"
    }
   ],
   "source": [
    "merge(X, Y, True)"
   ]
  },
  {
   "cell_type": "code",
   "execution_count": 10,
   "metadata": {
    "collapsed": false
   },
   "outputs": [],
   "source": [
    "def merge_sort(X, chatty=False):\n",
    "    if len(X) == 1:\n",
    "        if chatty: print('%s --> %s' % (X, X)) # 動作観察用\n",
    "        return X\n",
    "    else:\n",
    "        half = len(X) // 2\n",
    "        print('%s --> merge_sort(%s), merge_sort(%s)' % (X, X[:half], X[half:])) # 動作観察用\n",
    "        merged1 = merge_sort(X[:half], True)\n",
    "        merged2 = merge_sort(X[half:], True)\n",
    "        Z = merge(merged1, merged2)\n",
    "        print('merge %s and %s --> %s' % (merged1, merged2, Z)) # 動作観察用\n",
    "        return Z"
   ]
  },
  {
   "cell_type": "code",
   "execution_count": 11,
   "metadata": {
    "collapsed": false
   },
   "outputs": [
    {
     "data": {
      "text/plain": [
       "[7, 3, 4, 6]"
      ]
     },
     "execution_count": 11,
     "metadata": {},
     "output_type": "execute_result"
    }
   ],
   "source": [
    "X = [random.randint(0,9) for i in range(4)]\n",
    "X"
   ]
  },
  {
   "cell_type": "code",
   "execution_count": 12,
   "metadata": {
    "collapsed": false
   },
   "outputs": [
    {
     "name": "stdout",
     "output_type": "stream",
     "text": [
      "[7, 3, 4, 6] --> merge_sort([7, 3]), merge_sort([4, 6])\n",
      "[7, 3] --> merge_sort([7]), merge_sort([3])\n",
      "[7] --> [7]\n",
      "[3] --> [3]\n",
      "merge [7] and [3] --> [3, 7]\n",
      "[4, 6] --> merge_sort([4]), merge_sort([6])\n",
      "[4] --> [4]\n",
      "[6] --> [6]\n",
      "merge [4] and [6] --> [4, 6]\n",
      "merge [3, 7] and [4, 6] --> [3, 4, 6, 7]\n"
     ]
    },
    {
     "data": {
      "text/plain": [
       "[3, 4, 6, 7]"
      ]
     },
     "execution_count": 12,
     "metadata": {},
     "output_type": "execute_result"
    }
   ],
   "source": [
    "merge_sort(X)"
   ]
  },
  {
   "cell_type": "code",
   "execution_count": null,
   "metadata": {
    "collapsed": true
   },
   "outputs": [],
   "source": []
  }
 ],
 "metadata": {
  "kernelspec": {
   "display_name": "Python 3",
   "language": "python",
   "name": "python3"
  },
  "language_info": {
   "codemirror_mode": {
    "name": "ipython",
    "version": 3
   },
   "file_extension": ".py",
   "mimetype": "text/x-python",
   "name": "python",
   "nbconvert_exporter": "python",
   "pygments_lexer": "ipython3",
   "version": "3.5.1"
  }
 },
 "nbformat": 4,
 "nbformat_minor": 0
}
