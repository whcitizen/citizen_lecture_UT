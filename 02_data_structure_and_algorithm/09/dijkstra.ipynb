{
 "cells": [
  {
   "cell_type": "markdown",
   "metadata": {
    "deletable": true,
    "editable": true
   },
   "source": [
    "# 単始点最短路問題とダイクストラ（Dijkstra）法"
   ]
  },
  {
   "cell_type": "markdown",
   "metadata": {
    "deletable": true,
    "editable": true
   },
   "source": [
    "単始点最短路問題とダイクストラ法（Dijkstra）を紹介する．"
   ]
  },
  {
   "cell_type": "markdown",
   "metadata": {
    "deletable": true,
    "editable": true
   },
   "source": [
    "単始点最短路問題の入力と出力は\n",
    "\n",
    "- 入力: 連結単純有向グラフ$G$，枝長さ$l \\colon E(G) \\to \\mathbb{R}_{\\ge 0}$，始点$s \\in V(G)$\n",
    "- 出力: 始点$s$からの最短路長$d \\colon V(G) \\to \\mathbb{R}_{\\ge 0}$\n",
    "\n",
    "である．\n",
    "\n",
    "ここでは簡単のため，最短路長だけを出力し，最短路は出力しないものとする．"
   ]
  },
  {
   "cell_type": "markdown",
   "metadata": {
    "deletable": true,
    "editable": true
   },
   "source": [
    "例えば，以下の連結単純有向グラフ"
   ]
  },
  {
   "cell_type": "code",
   "execution_count": 1,
   "metadata": {
    "collapsed": false,
    "deletable": true,
    "editable": true
   },
   "outputs": [
    {
     "data": {
      "image/png": "[encoded data removed]",
      "text/plain": [
       "<matplotlib.figure.Figure at 0x10477aa20>"
      ]
     },
     "metadata": {},
     "output_type": "display_data"
    }
   ],
   "source": [
    "# このコードは描画用である．\n",
    "\n",
    "import networkx as nx\n",
    "import matplotlib.pyplot as plt\n",
    "\n",
    "N4 = nx.DiGraph()\n",
    "N4.add_node(1, position=(0, 0))\n",
    "N4.add_node(2, position=(1, 1))\n",
    "N4.add_node(3, position=(1, -1))\n",
    "N4.add_node(4, position=(2, 0))\n",
    "N4.add_edge(1, 2, length=2)\n",
    "N4.add_edge(1, 3, length=6)\n",
    "N4.add_edge(2, 3, length=1)\n",
    "N4.add_edge(2, 4, length=5)\n",
    "N4.add_edge(3, 4, length=3)\n",
    "posN4 = nx.get_node_attributes(N4, 'position')\n",
    "\n",
    "%matplotlib inline\n",
    "fig, ax = plt.subplots()\n",
    "ax.set_axis_off()\n",
    "nx.draw_networkx(N4, pos=posN4, with_labels=True, node_color='w')\n",
    "edge_label = nx.draw_networkx_edge_labels(N4, pos=posN4, edge_labels=nx.get_edge_attributes(N4, 'length'))"
   ]
  },
  {
   "cell_type": "markdown",
   "metadata": {
    "deletable": true,
    "editable": true
   },
   "source": [
    "が入力として与えられ，始点は頂点①であるとする．\n",
    "\n",
    "このとき出力は\n",
    "\n",
    "- d(①) = 0,\n",
    "- d(②) = 2,\n",
    "- d(③) = 3,\n",
    "- d(④) = 6,\n",
    "\n",
    "である．"
   ]
  },
  {
   "cell_type": "markdown",
   "metadata": {
    "deletable": true,
    "editable": true
   },
   "source": [
    "最短路を図示すると以下の赤い有向グラフ"
   ]
  },
  {
   "cell_type": "code",
   "execution_count": 2,
   "metadata": {
    "collapsed": false,
    "deletable": true,
    "editable": true
   },
   "outputs": [
    {
     "data": {
      "image/png": "[encoded data removed]",
      "text/plain": [
       "<matplotlib.figure.Figure at 0x109fe7198>"
      ]
     },
     "metadata": {},
     "output_type": "display_data"
    }
   ],
   "source": [
    "# このコードは描画用である．\n",
    "\n",
    "shortest_distance_of_N4 = nx.single_source_dijkstra_path_length(N4, 1, weight='length')\n",
    "\n",
    "def draw_shortest_paths(G, d, node_label=False, edge_label=False, edge_arrows=True, node_size=300):\n",
    "    p = nx.get_node_attributes(G, 'position')\n",
    "    nx.draw_networkx(G, pos=p, arrows=edge_arrows, with_labels=False, node_color='w', node_size=node_size)\n",
    "    edge_list = {}\n",
    "    for n in d:\n",
    "        dist = d[n]\n",
    "        for pred in G.predecessors_iter(n):\n",
    "            if dist - G.edge[pred][n]['length'] == d[pred]:\n",
    "                edge_list[(pred, n)] = True\n",
    "    nx.draw_networkx_edges(G, pos=p, edgelist=edge_list.keys(), edge_color='r')\n",
    "    if edge_label:\n",
    "        nx.draw_networkx_edge_labels(G, pos=p, edge_labels=nx.get_edge_attributes(G, 'length'))\n",
    "    if node_label:\n",
    "        nx.draw_networkx_labels(G, pos=p, labels=d, font_color='r')\n",
    "    return\n",
    "\n",
    "%matplotlib inline\n",
    "fig, ax = plt.subplots()\n",
    "ax.set_axis_off()\n",
    "draw_shortest_paths(N4, shortest_distance_of_N4, node_label=True, edge_label=True)"
   ]
  },
  {
   "cell_type": "markdown",
   "metadata": {
    "deletable": true,
    "editable": true
   },
   "source": [
    "となる．\n",
    "ここで頂点の赤い数字は，頂点の名前ではなく，頂点への最短路長である．"
   ]
  },
  {
   "cell_type": "markdown",
   "metadata": {
    "deletable": true,
    "editable": true
   },
   "source": [
    "## ダイクストラ法"
   ]
  },
  {
   "cell_type": "markdown",
   "metadata": {
    "deletable": true,
    "editable": true
   },
   "source": [
    "枝長さが非負の単始点最短路問題を効率的に解く方法として，ダイクストラ法が知られている．\n",
    "ここでは，ダイクストラ法のコード例を示す．"
   ]
  },
  {
   "cell_type": "markdown",
   "metadata": {
    "deletable": true,
    "editable": true
   },
   "source": [
    "まず，ダイクストラ法を記述する前に，枝長さ付きの有向グラフを辞書を用いて保存する．\n",
    "\n",
    "例えば，前出の有向グラフ（と枝長さ）ならば，以下の辞書"
   ]
  },
  {
   "cell_type": "code",
   "execution_count": 3,
   "metadata": {
    "collapsed": true,
    "deletable": true,
    "editable": true
   },
   "outputs": [],
   "source": [
    "V = ['1', '2', '3', '4'] # 有向グラフの頂点集合をVとする．\n",
    "\n",
    "E = [('1', '2'), ('1', '3'), ('2', '3'), ('2', '4'), ('3', '4')] # 有向グラフの枝集合をEとする．\n",
    "\n",
    "length = { # それぞれの枝の長さも辞書で保存する．  \n",
    "    ('1', '2'): 2, # ①から②への有向枝の長さは2である．\n",
    "    ('1', '3'): 6,\n",
    "    ('2', '3'): 1,\n",
    "    ('2', '4'): 5,\n",
    "    ('3', '4'): 3,\n",
    "}"
   ]
  },
  {
   "cell_type": "markdown",
   "metadata": {
    "deletable": true,
    "editable": true
   },
   "source": [
    "ダイクストラ法を以下に関数dijkstraとして定義する．"
   ]
  },
  {
   "cell_type": "code",
   "execution_count": 4,
   "metadata": {
    "collapsed": true,
    "deletable": true,
    "editable": true
   },
   "outputs": [],
   "source": [
    "def dijkstra(V, # 有向グラフの頂点集合\n",
    "             E, # 有向枝集合\n",
    "             length, # 枝長さ\n",
    "             source, # 始点\n",
    "            ):\n",
    "    '''\n",
    "    ネットワーク上の単始点最短路問題を動的計画法（Dijkstra法）で解く関数である．\n",
    "    説明のスライドをそのままPythonでコーディングしただけである．\n",
    "    ただし，このコーディングはわかりやすさ再優先なので，特にStep 4-1の計算の効率は悪い．\n",
    "    '''\n",
    "    \n",
    "    '''\n",
    "    前準備として，頂点が与えられたらその頂点から出ている枝の先の頂点のリストを引ける辞書successorを作る．\n",
    "    '''\n",
    "    successor = {v: [] for v in V}\n",
    "    for tail, head in E:\n",
    "        successor[tail] += head\n",
    "\n",
    "    '''\n",
    "    スライドのStep 1に該当する．\n",
    "    '''\n",
    "    distance = {} # 最短路長distanceは辞書で出力することにする．\n",
    "    upper_bound_of_shortest_path_length = sum(length.values())\n",
    "    # スライドの∞の代わりに，最短路長の自明な上界として「枝長さの合計」を使うことにする．\n",
    "    for v in V:\n",
    "        distance[v] = upper_bound_of_shortest_path_length\n",
    "\n",
    "    '''\n",
    "    スライドのStep 2に該当する．\n",
    "    '''\n",
    "    distance[source] = 0 # 始点そのものへの最短路長は0である．\n",
    "\n",
    "    '''\n",
    "    スライドのStep 3に該当する．\n",
    "    '''\n",
    "    U = V[:] # 集合（リスト）Uに頂点集合をコピーする．\n",
    "\n",
    "    '''\n",
    "    スライドのStep 4に該当する．\n",
    "    '''\n",
    "    while len(U) > 0:\n",
    "        '''\n",
    "        スライドのStep 4-1に該当する．\n",
    "        '''\n",
    "        minimum_of_d = upper_bound_of_shortest_path_length\n",
    "        v = U[0]\n",
    "        for u in U:\n",
    "            if distance[u] < minimum_of_d:\n",
    "                v = u\n",
    "                minimum_of_d = distance[v]\n",
    "        '''\n",
    "        スライドのStep 4-2に該当する．\n",
    "        '''\n",
    "        U.remove(v)\n",
    "        '''\n",
    "        スライドのStep 4-3に該当する．\n",
    "        '''\n",
    "        for w in successor[v]:\n",
    "            if distance[w] > distance[v] + length[(v, w)]:\n",
    "                distance[w] = distance[v] + length[(v, w)]\n",
    "\n",
    "    '''\n",
    "    スライドのStep 5に該当する．\n",
    "    '''\n",
    "    return distance"
   ]
  },
  {
   "cell_type": "code",
   "execution_count": 5,
   "metadata": {
    "collapsed": false,
    "deletable": true,
    "editable": true
   },
   "outputs": [],
   "source": [
    "shortest_distance = dijkstra(V, E, length, '1') # 始点を①として最短路長をダイクストラ法で求める．"
   ]
  },
  {
   "cell_type": "code",
   "execution_count": 6,
   "metadata": {
    "collapsed": false
   },
   "outputs": [
    {
     "data": {
      "text/plain": [
       "{'1': 0, '2': 2, '3': 3, '4': 6}"
      ]
     },
     "execution_count": 6,
     "metadata": {},
     "output_type": "execute_result"
    }
   ],
   "source": [
    "shortest_distance"
   ]
  },
  {
   "cell_type": "markdown",
   "metadata": {},
   "source": [
    "最短路長がわかっているならば，最短経路，より正確には最短路を構成する枝を見つけるのも容易である．"
   ]
  },
  {
   "cell_type": "code",
   "execution_count": 7,
   "metadata": {
    "collapsed": true
   },
   "outputs": [],
   "source": [
    "def shortest_path_edges(V, E, length, source, distance):\n",
    "    '''\n",
    "    前準備として，頂点が与えられたらその頂点に入ってくる枝の元の頂点のリストを引ける辞書predecessorを作る．\n",
    "    '''\n",
    "    predecessor = {v: [] for v in V}\n",
    "    for tail, head in E:\n",
    "        predecessor[head] += [tail]\n",
    "    \n",
    "    '''\n",
    "    distance(pred) + length[(pred, v)] = distance(v)\n",
    "    となっている頂点対(pred, v)があったら，\n",
    "    それは最短路で使われているはずである．\n",
    "    '''\n",
    "    edges = [] # 最短路で使われている枝を保存するリスト\n",
    "    for v in V: # それぞれの頂点に関して以下を行う．\n",
    "        if v == source: # vが始点ならば\n",
    "            continue # なにもしない．\n",
    "        for pred in predecessor[v]: # vに入ってくる枝（の元）それぞれに関して，\n",
    "            if length[(pred, v)] == distance[v] - distance[pred]:\n",
    "                # もしも最適性条件を満たしているならば，\n",
    "                edges += [(pred, v)] # それは最短路で使われているはずである．\n",
    "                break\n",
    "    return edges"
   ]
  },
  {
   "cell_type": "code",
   "execution_count": 8,
   "metadata": {
    "collapsed": false
   },
   "outputs": [
    {
     "data": {
      "text/plain": [
       "[('1', '2'), ('2', '3'), ('3', '4')]"
      ]
     },
     "execution_count": 8,
     "metadata": {},
     "output_type": "execute_result"
    }
   ],
   "source": [
    "shortest_path_edges(V, E, length, '1', shortest_distance)"
   ]
  },
  {
   "cell_type": "markdown",
   "metadata": {
    "deletable": true,
    "editable": true
   },
   "source": [
    "## Networkxの利用"
   ]
  },
  {
   "cell_type": "markdown",
   "metadata": {
    "deletable": true,
    "editable": true
   },
   "source": [
    "単始点最短路問題を含む，グラフ上の最適化問題は多くの場面で有用である．\n",
    "よって，グラフを入力とするアルゴリズムを実装したパッケージが広く流通している．\n",
    "\n",
    "ここでは，そのようなパッケージの1つである[networkx](http://networkx.github.io/)を利用してみる．\n",
    "（すでに上記の描画で利用しているが．）"
   ]
  },
  {
   "cell_type": "code",
   "execution_count": 9,
   "metadata": {
    "collapsed": true,
    "deletable": true,
    "editable": true
   },
   "outputs": [],
   "source": [
    "import networkx as nx # モジュールnetworkxをnxという略称でimportする．"
   ]
  },
  {
   "cell_type": "code",
   "execution_count": 10,
   "metadata": {
    "collapsed": true,
    "deletable": true,
    "editable": true
   },
   "outputs": [],
   "source": [
    "G = nx.DiGraph() # これでGという名前の（中身は何もない）有向グラフが作られる．"
   ]
  },
  {
   "cell_type": "code",
   "execution_count": 11,
   "metadata": {
    "collapsed": true,
    "deletable": true,
    "editable": true
   },
   "outputs": [],
   "source": [
    "G.add_edge('1', '2', edge_length=2) \n",
    "# これで有向グラフGに「'1'から'2'への有向枝」が「edge_lengthという属性の値が2」というおまけ付きで加えられる．"
   ]
  },
  {
   "cell_type": "code",
   "execution_count": 12,
   "metadata": {
    "collapsed": true,
    "deletable": true,
    "editable": true
   },
   "outputs": [],
   "source": [
    "G.add_edge('1', '3', edge_length=6) \n",
    "G.add_edge('2', '3', edge_length=1) \n",
    "G.add_edge('2', '4', edge_length=5)\n",
    "G.add_edge('3', '4', edge_length=3)"
   ]
  },
  {
   "cell_type": "code",
   "execution_count": 13,
   "metadata": {
    "collapsed": false,
    "deletable": true,
    "editable": true
   },
   "outputs": [
    {
     "data": {
      "text/plain": [
       "{'1': 0, '2': 2, '3': 3, '4': 6}"
      ]
     },
     "execution_count": 13,
     "metadata": {},
     "output_type": "execute_result"
    }
   ],
   "source": [
    "nx.single_source_dijkstra_path_length(G, '1', weight='edge_length')\n",
    "# networkxのメソッドsingle_source_dijkstra_path_lengthは，「グラフG，始点'1'，長さの属性edge_length」を引数として，最短路長を返す．"
   ]
  },
  {
   "cell_type": "markdown",
   "metadata": {
    "deletable": true,
    "editable": true
   },
   "source": [
    "## 計算時間の比較"
   ]
  },
  {
   "cell_type": "markdown",
   "metadata": {
    "deletable": true,
    "editable": true
   },
   "source": [
    "あまりおもしろい例ではないが，以下のようなグリッドグラフに枝重みをランダムに設定し，ダイクストラ法の計算時間を測ってみる．"
   ]
  },
  {
   "cell_type": "code",
   "execution_count": 14,
   "metadata": {
    "collapsed": false,
    "deletable": true,
    "editable": true
   },
   "outputs": [
    {
     "data": {
      "image/png": "[encoded data removed]",
      "text/plain": [
       "<matplotlib.figure.Figure at 0x109fe3ba8>"
      ]
     },
     "metadata": {},
     "output_type": "display_data"
    }
   ],
   "source": [
    "m = 2 ** 3 \n",
    "n = 2 ** 3\n",
    "gmn = nx.grid_2d_graph(m, n).to_directed()\n",
    "for i in range(m):\n",
    "    for j in range(n):\n",
    "        gmn.node[(i, j)]['position'] = (i, j)\n",
    "import random\n",
    "for tail, head in gmn.edges():\n",
    "    gmn.edge[tail][head]['length'] = random.randint(0, 100)\n",
    "    \n",
    "%matplotlib inline\n",
    "plt.figure(figsize=(16, 8))\n",
    "nx.draw_networkx(gmn, pos=nx.get_node_attributes(gmn,'position'), arrows=True, with_labels=False, node_size=32,\n",
    "                 node_color='w', alpha=1)"
   ]
  },
  {
   "cell_type": "markdown",
   "metadata": {
    "deletable": true,
    "editable": true
   },
   "source": [
    "枝長さの表示は省略する．\n",
    "\n",
    "まず，networkxのDiGraph形式のデータを読み込んで，ダイクストラ法を実行する関数を再度定義して実行してみる．"
   ]
  },
  {
   "cell_type": "code",
   "execution_count": 15,
   "metadata": {
    "collapsed": false,
    "deletable": true,
    "editable": true
   },
   "outputs": [],
   "source": [
    "def argmin(U, d):\n",
    "    minimum_node = U[0]\n",
    "    minimum_distance = d[minimum_node]\n",
    "    for n in U:\n",
    "        if d[n] < minimum_distance:\n",
    "            minimum_distance = d[n]\n",
    "            minimum_node = n\n",
    "    return minimum_node\n",
    "\n",
    "def dijkstra(G, s):\n",
    "    edge_length_sum = sum(nx.get_edge_attributes(G, 'length').values())\n",
    "    d = {}\n",
    "    for n in G.nodes():\n",
    "        d[n] = edge_length_sum # ∞の代わりに枝長さの合計を代入\n",
    "    d[s] = 0\n",
    "    U = G.nodes()\n",
    "    while len(U) > 0:\n",
    "        v = argmin(U, d)\n",
    "        U.remove(v)\n",
    "        for w in G.successors_iter(v):\n",
    "            if d[w] > d[v] + G.edge[v][w]['length']:\n",
    "                d[w] = d[v] + G.edge[v][w]['length']\n",
    "    return d"
   ]
  },
  {
   "cell_type": "code",
   "execution_count": 16,
   "metadata": {
    "collapsed": false,
    "deletable": true,
    "editable": true
   },
   "outputs": [
    {
     "name": "stdout",
     "output_type": "stream",
     "text": [
      "CPU times: user 719 µs, sys: 13 µs, total: 732 µs\n",
      "Wall time: 725 µs\n"
     ]
    }
   ],
   "source": [
    "%%time\n",
    "\n",
    "shortest_distance_of_gmn = dijkstra(gmn, (0, 0))"
   ]
  },
  {
   "cell_type": "markdown",
   "metadata": {
    "deletable": true,
    "editable": true
   },
   "source": [
    "次にnetworkxのメソッドで実行時間を測ってみる．"
   ]
  },
  {
   "cell_type": "code",
   "execution_count": 17,
   "metadata": {
    "collapsed": false,
    "deletable": true,
    "editable": true
   },
   "outputs": [
    {
     "name": "stdout",
     "output_type": "stream",
     "text": [
      "CPU times: user 258 µs, sys: 0 ns, total: 258 µs\n",
      "Wall time: 260 µs\n"
     ]
    }
   ],
   "source": [
    "%%time\n",
    "\n",
    "shortest_distance_of_gmn = nx.single_source_dijkstra_path_length(gmn, (0, 0))"
   ]
  },
  {
   "cell_type": "markdown",
   "metadata": {
    "deletable": true,
    "editable": true
   },
   "source": [
    "Networkxのメソッドの方が早いが，このくらいならば大差ないと思える．\n",
    "\n",
    "次に，グラフの大きさ（頂点数と枝数）を変えて，計算時間をプロットしてみる．"
   ]
  },
  {
   "cell_type": "code",
   "execution_count": 18,
   "metadata": {
    "collapsed": true,
    "deletable": true,
    "editable": true
   },
   "outputs": [],
   "source": [
    "import time\n",
    "import numpy as np\n",
    "\n",
    "def dijkstra_time(max_size=10):\n",
    "    log = []\n",
    "    for m in range(2, max_size + 1):\n",
    "        n = m\n",
    "        gmn = nx.grid_2d_graph(m, n).to_directed()\n",
    "        for i in range(m):\n",
    "            for j in range(n):\n",
    "                gmn.node[(i, j)]['position'] = (i, j)\n",
    "        for tail, head in gmn.edges():\n",
    "            gmn.edge[tail][head]['length'] = random.randint(0, 100)\n",
    "            \n",
    "        size = len(gmn.nodes())\n",
    "        \n",
    "        start_time = time.time()\n",
    "        dgmn = dijkstra(gmn, (0, 0))\n",
    "        simple_dijkstra_time = time.time() - start_time\n",
    "        \n",
    "        start_time = time.time()\n",
    "        dgmn = nx.single_source_dijkstra_path_length(gmn, (0, 0))\n",
    "        nx_dijkstra_time = time.time() - start_time\n",
    "        \n",
    "        log.append((size, simple_dijkstra_time, nx_dijkstra_time))\n",
    "    return log"
   ]
  },
  {
   "cell_type": "code",
   "execution_count": 19,
   "metadata": {
    "collapsed": false,
    "deletable": true,
    "editable": true
   },
   "outputs": [],
   "source": [
    "log = np.array(dijkstra_time(100))"
   ]
  },
  {
   "cell_type": "code",
   "execution_count": 20,
   "metadata": {
    "collapsed": false,
    "deletable": true,
    "editable": true
   },
   "outputs": [
    {
     "data": {
      "image/png": "[encoded data removed]",
      "text/plain": [
       "<matplotlib.figure.Figure at 0x10d784be0>"
      ]
     },
     "metadata": {},
     "output_type": "display_data"
    }
   ],
   "source": [
    "%matplotlib inline\n",
    "plt.figure(figsize=(16, 8))\n",
    "plt.title('CPU time of Dijkstra')\n",
    "plt.xlabel('instance size (# of nodes)')\n",
    "plt.ylabel('CPU time')\n",
    "plt.yscale('linear')\n",
    "plt.plot(log[:,0], log[:,1], 'o-', label='simple Dijkstra')\n",
    "plt.plot(log[:,0], log[:,2], 'o-', label='Dijkstra by networkx')\n",
    "z = plt.legend()"
   ]
  },
  {
   "cell_type": "markdown",
   "metadata": {
    "deletable": true,
    "editable": true
   },
   "source": [
    "先程適当にコーディングしたdijkstraはわかりやすさのため，データ構造の工夫は施していない．\n",
    "一方で，networkxのメソッドには（おそらく）データ構造の工夫も施されている．\n",
    "これが計算時間の違いに現れている．\n",
    "\n",
    "データ構造の工夫のないコードは，枝数とは関係なく，頂点数の2乗に比例して計算時間がかかる．\n",
    "データ構造の工夫を施すと（ものすごく大雑把に言うと）「頂点数と枝数にほぼ比例」した計算時間で済む．"
   ]
  }
 ],
 "metadata": {
  "kernelspec": {
   "display_name": "Python 3",
   "language": "python",
   "name": "python3"
  },
  "language_info": {
   "codemirror_mode": {
    "name": "ipython",
    "version": 3
   },
   "file_extension": ".py",
   "mimetype": "text/x-python",
   "name": "python",
   "nbconvert_exporter": "python",
   "pygments_lexer": "ipython3",
   "version": "3.5.1"
  }
 },
 "nbformat": 4,
 "nbformat_minor": 0
}
