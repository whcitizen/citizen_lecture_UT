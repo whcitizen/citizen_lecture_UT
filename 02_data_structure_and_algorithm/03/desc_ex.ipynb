{
 "cells": [
  {
   "cell_type": "markdown",
   "metadata": {},
   "source": [
    "## 総当たり戦スケジュールを出力するcircle method"
   ]
  },
  {
   "cell_type": "markdown",
   "metadata": {},
   "source": [
    "総当たり戦スケジュール表を出力するcircle methodを以下に関数circle_methodとして定義する．\n",
    "入力はチーム名の集合Tである．\n",
    "Circle method自体は単純なものであるが，コードにすると意外とわかりにくい．"
   ]
  },
  {
   "cell_type": "code",
   "execution_count": 1,
   "metadata": {
    "collapsed": false
   },
   "outputs": [],
   "source": [
    "def circle_method(T):\n",
    "    n = len(T)\n",
    "    c = [T[i] for i in range(n)]\n",
    "    p = {}\n",
    "    for t in T:\n",
    "        p[t] = []\n",
    "    for d in range(1, n):\n",
    "        for i in range(n):\n",
    "            p[c[i]].append(c[n - i - 1])\n",
    "        cc = ['' for i in range(n)]\n",
    "        for i in range(1, n - 1):\n",
    "            cc[i] = c[i - 1]\n",
    "        cc[0] = c[n - 2]\n",
    "        for i in range(n - 1):\n",
    "            c[i] = cc[i]\n",
    "    return p"
   ]
  },
  {
   "cell_type": "markdown",
   "metadata": {},
   "source": [
    "Circle methodを関数として定義できたので，10チームの集合を作り試してみる．"
   ]
  },
  {
   "cell_type": "code",
   "execution_count": 2,
   "metadata": {
    "collapsed": true
   },
   "outputs": [],
   "source": [
    "T = ['A', 'B', 'C', 'D', 'E', 'F', 'G', 'H', 'I', 'J']"
   ]
  },
  {
   "cell_type": "code",
   "execution_count": 3,
   "metadata": {
    "collapsed": false
   },
   "outputs": [],
   "source": [
    "p = circle_method(T)"
   ]
  },
  {
   "cell_type": "markdown",
   "metadata": {},
   "source": [
    "各チームの各日の対戦相手がpに格納された．\n",
    "見やすいように表としてpの値を表示する．"
   ]
  },
  {
   "cell_type": "code",
   "execution_count": 4,
   "metadata": {
    "collapsed": false
   },
   "outputs": [
    {
     "name": "stdout",
     "output_type": "stream",
     "text": [
      "  | 1 2 3 4 5 6 7 8 9\n",
      "---------------------\n",
      "A | J H F D B I G E C\n",
      "B | I G E C A H F D J\n",
      "C | H F D B I G E J A\n",
      "D | G E C A H F J B I\n",
      "E | F D B I G J C A H\n",
      "F | E C A H J D B I G\n",
      "G | D B I J E C A H F\n",
      "H | C A J F D B I G E\n",
      "I | B J G E C A H F D\n",
      "J | A I H G F E D C B\n"
     ]
    }
   ],
   "source": [
    "print('  | %s' % (' '.join(map(str, [i for i in range(1, len(T))]))))\n",
    "print('%s' % (''.join(['-' for i in range(1+2*len(T))])))\n",
    "for t in T:\n",
    "    print('%s | %s' % (t, ' '.join(p[t])))"
   ]
  },
  {
   "cell_type": "markdown",
   "metadata": {},
   "source": [
    "## アル・フアリズミーによる（？）乗算 "
   ]
  },
  {
   "cell_type": "markdown",
   "metadata": {},
   "source": [
    "アル・フアリズミーが著した本に書かれていたという乗算方法を以下に関数alkwarizumi_prodとして定義する．\n",
    "以下の関数におけるzは積（の途中経過）を保存するための変数である．"
   ]
  },
  {
   "cell_type": "code",
   "execution_count": 5,
   "metadata": {
    "collapsed": true
   },
   "outputs": [],
   "source": [
    "def alkwarizmi_prod(x, y):\n",
    "    z = 0\n",
    "    while x >= 1:\n",
    "        if x % 2 == 1:\n",
    "            z += y\n",
    "        x = x // 2\n",
    "        y *= 2\n",
    "    return z"
   ]
  },
  {
   "cell_type": "markdown",
   "metadata": {},
   "source": [
    "関数を定義したので，早速試してみる．"
   ]
  },
  {
   "cell_type": "code",
   "execution_count": 6,
   "metadata": {
    "collapsed": false
   },
   "outputs": [
    {
     "data": {
      "text/plain": [
       "1904"
      ]
     },
     "execution_count": 6,
     "metadata": {},
     "output_type": "execute_result"
    }
   ],
   "source": [
    "alkwarizmi_prod(34, 56)"
   ]
  },
  {
   "cell_type": "markdown",
   "metadata": {},
   "source": [
    "一応検算しておく．"
   ]
  },
  {
   "cell_type": "code",
   "execution_count": 7,
   "metadata": {
    "collapsed": false
   },
   "outputs": [
    {
     "data": {
      "text/plain": [
       "1904"
      ]
     },
     "execution_count": 7,
     "metadata": {},
     "output_type": "execute_result"
    }
   ],
   "source": [
    "34 * 56"
   ]
  },
  {
   "cell_type": "markdown",
   "metadata": {},
   "source": [
    "## 素数列挙三種"
   ]
  },
  {
   "cell_type": "markdown",
   "metadata": {},
   "source": [
    "以下に3種類の素数列挙法をコードにしてみる．\n",
    "\n",
    "まず，与えられた自然数xが素数か否かを単純な方法で判定する関数is_prime_simplyを以下に定義する．"
   ]
  },
  {
   "cell_type": "code",
   "execution_count": 8,
   "metadata": {
    "collapsed": true
   },
   "outputs": [],
   "source": [
    "def is_prime_simply(x):\n",
    "    for y in range(2, x):\n",
    "        if x % y == 0:\n",
    "            return False\n",
    "    return True"
   ]
  },
  {
   "cell_type": "markdown",
   "metadata": {},
   "source": [
    "定義した関数を早速試してみる．"
   ]
  },
  {
   "cell_type": "code",
   "execution_count": 9,
   "metadata": {
    "collapsed": false
   },
   "outputs": [
    {
     "data": {
      "text/plain": [
       "True"
      ]
     },
     "execution_count": 9,
     "metadata": {},
     "output_type": "execute_result"
    }
   ],
   "source": [
    "is_prime_simply(23)"
   ]
  },
  {
   "cell_type": "code",
   "execution_count": 10,
   "metadata": {
    "collapsed": false
   },
   "outputs": [
    {
     "data": {
      "text/plain": [
       "False"
      ]
     },
     "execution_count": 10,
     "metadata": {},
     "output_type": "execute_result"
    }
   ],
   "source": [
    "is_prime_simply(24)"
   ]
  },
  {
   "cell_type": "markdown",
   "metadata": {},
   "source": [
    "正しく定義できたようだ．\n",
    "\n",
    "次に，素数判定アルゴリズム（関数）を利用して，素数を列挙するアルゴリズムを関数enumerate_primeとして定義する．\n",
    "後々のことも考えて，素数判定関数は引数として指定できるようにしておく．"
   ]
  },
  {
   "cell_type": "code",
   "execution_count": 11,
   "metadata": {
    "collapsed": true
   },
   "outputs": [],
   "source": [
    "def enumerate_prime(n, is_prime):\n",
    "    P = []\n",
    "    for x in range(2, n + 1):\n",
    "        if is_prime(x):\n",
    "            P.append(x)\n",
    "    return P"
   ]
  },
  {
   "cell_type": "markdown",
   "metadata": {},
   "source": [
    "素数判定関数としてis_prime_simplyを指定して試してみる．"
   ]
  },
  {
   "cell_type": "code",
   "execution_count": 12,
   "metadata": {
    "collapsed": false
   },
   "outputs": [
    {
     "data": {
      "text/plain": [
       "[2,\n",
       " 3,\n",
       " 5,\n",
       " 7,\n",
       " 11,\n",
       " 13,\n",
       " 17,\n",
       " 19,\n",
       " 23,\n",
       " 29,\n",
       " 31,\n",
       " 37,\n",
       " 41,\n",
       " 43,\n",
       " 47,\n",
       " 53,\n",
       " 59,\n",
       " 61,\n",
       " 67,\n",
       " 71,\n",
       " 73,\n",
       " 79,\n",
       " 83,\n",
       " 89,\n",
       " 97]"
      ]
     },
     "execution_count": 12,
     "metadata": {},
     "output_type": "execute_result"
    }
   ],
   "source": [
    "enumerate_prime(100, is_prime_simply)"
   ]
  },
  {
   "cell_type": "markdown",
   "metadata": {},
   "source": [
    "確かに素数を列挙できているようだ．\n",
    "\n",
    "さらに，平方根を素数判定に利用するアルゴリズムを関数is_prime_sqrtとして以下に定義する．\n",
    "平方根の計算のために数学関数モジュールmathをimportする．"
   ]
  },
  {
   "cell_type": "code",
   "execution_count": 13,
   "metadata": {
    "collapsed": true
   },
   "outputs": [],
   "source": [
    "import math\n",
    "\n",
    "def is_prime_sqrt(x):\n",
    "    for y in range(2, int(math.sqrt(x)) + 1):\n",
    "        if x % y == 0:\n",
    "            return False\n",
    "    return True"
   ]
  },
  {
   "cell_type": "markdown",
   "metadata": {},
   "source": [
    "関数を早速試してみる．"
   ]
  },
  {
   "cell_type": "code",
   "execution_count": 14,
   "metadata": {
    "collapsed": false
   },
   "outputs": [
    {
     "data": {
      "text/plain": [
       "True"
      ]
     },
     "execution_count": 14,
     "metadata": {},
     "output_type": "execute_result"
    }
   ],
   "source": [
    "is_prime_sqrt(23)"
   ]
  },
  {
   "cell_type": "code",
   "execution_count": 15,
   "metadata": {
    "collapsed": false
   },
   "outputs": [
    {
     "data": {
      "text/plain": [
       "False"
      ]
     },
     "execution_count": 15,
     "metadata": {},
     "output_type": "execute_result"
    }
   ],
   "source": [
    "is_prime_sqrt(24)"
   ]
  },
  {
   "cell_type": "markdown",
   "metadata": {},
   "source": [
    "確かに素数を判定できているようだ．\n",
    "\n",
    "この素数判定関数を用いて再度素数を列挙してみる．\n",
    "素数判定関数としてis_prime_sqrtを指定して，100までの素数を列挙する．"
   ]
  },
  {
   "cell_type": "code",
   "execution_count": 16,
   "metadata": {
    "collapsed": false
   },
   "outputs": [
    {
     "data": {
      "text/plain": [
       "[2,\n",
       " 3,\n",
       " 5,\n",
       " 7,\n",
       " 11,\n",
       " 13,\n",
       " 17,\n",
       " 19,\n",
       " 23,\n",
       " 29,\n",
       " 31,\n",
       " 37,\n",
       " 41,\n",
       " 43,\n",
       " 47,\n",
       " 53,\n",
       " 59,\n",
       " 61,\n",
       " 67,\n",
       " 71,\n",
       " 73,\n",
       " 79,\n",
       " 83,\n",
       " 89,\n",
       " 97]"
      ]
     },
     "execution_count": 16,
     "metadata": {},
     "output_type": "execute_result"
    }
   ],
   "source": [
    "enumerate_prime(100, is_prime_sqrt)"
   ]
  },
  {
   "cell_type": "markdown",
   "metadata": {},
   "source": [
    "先ほどど同じ結果が得られた．\n",
    "\n",
    "素数列挙の最後としてエラトステネスの篩を関数eratosthenesとして以下に定義する．"
   ]
  },
  {
   "cell_type": "code",
   "execution_count": 17,
   "metadata": {
    "collapsed": true
   },
   "outputs": [],
   "source": [
    "def eratosthenes(n):\n",
    "    P = []\n",
    "    q = [True for i in range(n + 1)]\n",
    "    for i in range(2, n + 1):\n",
    "        if q[i] == True:\n",
    "            P.append(i)\n",
    "            for j in range(2, n // i + 1):\n",
    "                q[i * j] = False\n",
    "    return P"
   ]
  },
  {
   "cell_type": "markdown",
   "metadata": {},
   "source": [
    "エラトステネスの篩を試してみる．"
   ]
  },
  {
   "cell_type": "code",
   "execution_count": 18,
   "metadata": {
    "collapsed": false
   },
   "outputs": [
    {
     "data": {
      "text/plain": [
       "[2,\n",
       " 3,\n",
       " 5,\n",
       " 7,\n",
       " 11,\n",
       " 13,\n",
       " 17,\n",
       " 19,\n",
       " 23,\n",
       " 29,\n",
       " 31,\n",
       " 37,\n",
       " 41,\n",
       " 43,\n",
       " 47,\n",
       " 53,\n",
       " 59,\n",
       " 61,\n",
       " 67,\n",
       " 71,\n",
       " 73,\n",
       " 79,\n",
       " 83,\n",
       " 89,\n",
       " 97]"
      ]
     },
     "execution_count": 18,
     "metadata": {},
     "output_type": "execute_result"
    }
   ],
   "source": [
    "eratosthenes(100)"
   ]
  },
  {
   "cell_type": "markdown",
   "metadata": {},
   "source": [
    "やはり先ほどと同じ結果が得られた．\n",
    "\n",
    "実は三種の素数列挙アルゴリズムは速さ（時間複雑度）が異なる．\n",
    "100までの素数列挙では実行時間の差は感じないが，100万までの素数を列挙すると実行時間の差を体感できる．"
   ]
  }
 ],
 "metadata": {
  "kernelspec": {
   "display_name": "Python 3",
   "language": "python",
   "name": "python3"
  },
  "language_info": {
   "codemirror_mode": {
    "name": "ipython",
    "version": 3
   },
   "file_extension": ".py",
   "mimetype": "text/x-python",
   "name": "python",
   "nbconvert_exporter": "python",
   "pygments_lexer": "ipython3",
   "version": "3.5.2"
  }
 },
 "nbformat": 4,
 "nbformat_minor": 0
}
