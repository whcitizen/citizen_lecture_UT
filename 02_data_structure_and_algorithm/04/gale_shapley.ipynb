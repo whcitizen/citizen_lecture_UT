{
 "cells": [
  {
   "cell_type": "markdown",
   "metadata": {},
   "source": [
    "# Gale-Shapleyアルゴリズム"
   ]
  },
  {
   "cell_type": "markdown",
   "metadata": {},
   "source": [
    "安定マッチング問題に対するGale-Shapleyアルゴリズムの実装の例を以下に示す．\n",
    "入力として，男性の集合，女性の集合，男性の（女性に対する）ランク行列，女性の（男性に対する）ランク行列を受け取り，\n",
    "女性のパートナーの表を返す関数として定義する．"
   ]
  },
  {
   "cell_type": "code",
   "execution_count": 1,
   "metadata": {
    "collapsed": true
   },
   "outputs": [],
   "source": [
    "def gale_shapley(men, women, ranking_matrix_man, ranking_matrix_woman):\n",
    "    '''Gale-Shapleyアルゴリズム（男性からアプローチ）\n",
    "    入力は，男性の集合，女性の集合，男性の（女性に対する）ランク行列，女性の（男性に対する）ランク行列\n",
    "    出力は，女性のパートナー（の集合）\n",
    "    '''\n",
    "    \n",
    "    '''\n",
    "    Step 0: 男性とランキングから女性が出力される表woman_of_man_rankingを作る．\n",
    "    '''\n",
    "    woman_of_man_ranking = {}\n",
    "    for m in men:\n",
    "        woman_of_man_ranking[m] = {}\n",
    "        for w in women:\n",
    "            woman_of_man_ranking[m][ranking_matrix_man[m][w]] = w\n",
    "    \n",
    "    '''\n",
    "    Step 1: フリーな男性の集合free_menを，男性集合からコピーして作る．\n",
    "    '''\n",
    "    free_men = men[:]\n",
    "    \n",
    "    '''\n",
    "    Step 2: 男性が次にアプローチする順位の表next_womanを作り，初期値として0を入れる．\n",
    "    '''\n",
    "    next_woman = {m:0 for m in men}\n",
    "    \n",
    "    '''\n",
    "    Step 3: 女性のパートナーの表partnerを作り，初期値として空集合[]を入れる．\n",
    "    '''\n",
    "    partner = {w: [] for w in women}\n",
    "    \n",
    "    '''\n",
    "    Step 4: フリーな男性の集合free_manが空でない限り繰り返す．\n",
    "    '''\n",
    "    while len(free_men) > 0:\n",
    "        m = free_men.pop() # フリーな男性の集合から要素を1つ取り出しmとする．\n",
    "        next_woman[m] += 1 # 男性mが次にアプローチするランキングを1増やす．\n",
    "        w = woman_of_man_ranking[m][next_woman[m]] # 男性mが次にアプローチする女性をwとする．\n",
    "        if partner[w] == []: # その女性wのパートナーがいないならば，\n",
    "            partner[w] = m # 男性mを女性wのパートナーとする．\n",
    "        else: # そうではなくて，その女性wにパートナーがすでにいるならば，\n",
    "            if ranking_matrix_woman[w][m] < ranking_matrix_woman[w][partner[w]]: # 今のパートナーよりも良いならば\n",
    "                free_men.append(partner[w]) # 今のパートナーをフリーな男性集合に加え\n",
    "                partner[w] = m # 男性mを新たなパートナーとする．\n",
    "            else: # 今のパートナーの方が良いならば，\n",
    "                free_men.append(m) # アプローチしてきた男性mは再びフリーな男性の集合に戻る．\n",
    "    \n",
    "    '''\n",
    "    Step 5: 女性のパートナーの表を返す．\n",
    "    '''\n",
    "    return partner"
   ]
  },
  {
   "cell_type": "markdown",
   "metadata": {},
   "source": [
    "Gale-Shapleyアルゴリズムを関数として定義したので，次に入力データを定義する．\n",
    "以下の入力はGaleとShapleyによる原論文のExampleをそのまま持ってきた．"
   ]
  },
  {
   "cell_type": "code",
   "execution_count": 2,
   "metadata": {
    "collapsed": false
   },
   "outputs": [],
   "source": [
    "men = ['alpha', 'beta', 'gamma', 'delta']\n",
    "women = ['A', 'B', 'C', 'D']\n",
    "ranking_matrix_man = {'alpha': {'A': 1, 'B': 2, 'C': 3, 'D': 4},\n",
    "                      'beta': {'A': 1, 'B': 4, 'C': 3, 'D': 2},\n",
    "                      'gamma': {'A': 2, 'B': 1, 'C': 3, 'D': 4},\n",
    "                      'delta': {'A': 4, 'B': 2, 'C': 3, 'D': 1}}\n",
    "ranking_matrix_woman = {'A': {'alpha': 3, 'beta': 4, 'gamma': 2, 'delta': 1},\n",
    "                        'B': {'alpha': 3, 'beta': 1, 'gamma': 4, 'delta': 2},\n",
    "                        'C': {'alpha': 2, 'beta': 3, 'gamma': 4, 'delta': 1},\n",
    "                        'D': {'alpha': 3, 'beta': 2, 'gamma': 1, 'delta': 4}}"
   ]
  },
  {
   "cell_type": "markdown",
   "metadata": {},
   "source": [
    "この入力データを関数に入れると"
   ]
  },
  {
   "cell_type": "code",
   "execution_count": 3,
   "metadata": {
    "collapsed": false
   },
   "outputs": [
    {
     "data": {
      "text/plain": [
       "{'A': 'gamma', 'B': 'delta', 'C': 'alpha', 'D': 'beta'}"
      ]
     },
     "execution_count": 3,
     "metadata": {},
     "output_type": "execute_result"
    }
   ],
   "source": [
    "gale_shapley(men, women, ranking_matrix_man, ranking_matrix_woman)"
   ]
  },
  {
   "cell_type": "markdown",
   "metadata": {},
   "source": [
    "確かに安定マッチングが得られる．"
   ]
  }
 ],
 "metadata": {
  "kernelspec": {
   "display_name": "Python 3",
   "language": "python",
   "name": "python3"
  },
  "language_info": {
   "codemirror_mode": {
    "name": "ipython",
    "version": 3
   },
   "file_extension": ".py",
   "mimetype": "text/x-python",
   "name": "python",
   "nbconvert_exporter": "python",
   "pygments_lexer": "ipython3",
   "version": "3.5.1"
  }
 },
 "nbformat": 4,
 "nbformat_minor": 0
}
