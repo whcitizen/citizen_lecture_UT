{
 "cells": [
  {
   "cell_type": "markdown",
   "metadata": {},
   "source": [
    "# 線形整数最適化モジュールPuLPの簡単な紹介"
   ]
  },
  {
   "cell_type": "markdown",
   "metadata": {},
   "source": [
    "## まずは最適化モジュールPuLPで線形最適化問題を解いてみる"
   ]
  },
  {
   "cell_type": "markdown",
   "metadata": {},
   "source": [
    "Pythonで使える最適化モジュールPuLPを紹介します．\n",
    "なお，ここではPython3を用いています．\n",
    "PuLPのインストールのやり方などは，適当にWebで検索してみてください．\n",
    "\n",
    "まず，以下の線形最適化問題\n",
    "$$\n",
    "\\text{max. } 3 x + 4 y + 2 z\n",
    "$$\n",
    "$$\n",
    "\\text{s. t. } 2 x \\le 4,\n",
    "$$\n",
    "$$\n",
    "x + 2 z \\le 8,\n",
    "$$\n",
    "$$\n",
    "3 y + z \\le 6,\n",
    "$$\n",
    "$$\n",
    "x \\ge 0, \\ y \\ge 0, \\ z \\ge 0\n",
    "$$\n",
    "を解いてみます．\n",
    "\n",
    "最初にPuLPをimportします．"
   ]
  },
  {
   "cell_type": "code",
   "execution_count": 1,
   "metadata": {
    "collapsed": true
   },
   "outputs": [],
   "source": [
    "import pulp"
   ]
  },
  {
   "cell_type": "markdown",
   "metadata": {},
   "source": [
    "PuLPを使う準備ができたので，PuLPのメソッドLpProblemを用いて，線形最適化問題のinstanceを作ります．\n",
    "ここではinstanceの名前をLPとします．"
   ]
  },
  {
   "cell_type": "code",
   "execution_count": 2,
   "metadata": {
    "collapsed": true
   },
   "outputs": [],
   "source": [
    "LP = pulp.LpProblem(name='LP_example', sense=pulp.LpMaximize)"
   ]
  },
  {
   "cell_type": "markdown",
   "metadata": {},
   "source": [
    "最大化問題か最小化問題かはsenseというパラメータで指定します．\n",
    "最大化問題にしたい場合はsense=pulp.LpMaximize，最小化問題にしたい場合はsense=pulp.LpMinimizeとします．\n",
    "senseの指定を省略するとデフォルト値のpulp.LpMinimizeが適用されるみたいです．\n",
    "\n",
    "次に，PuLPのメソッドLpVariableを用いて，線形最適化問題の変数のinstaceを作ります．"
   ]
  },
  {
   "cell_type": "code",
   "execution_count": 3,
   "metadata": {
    "collapsed": true
   },
   "outputs": [],
   "source": [
    "x = pulp.LpVariable(name='x', lowBound=0)\n",
    "y = pulp.LpVariable(name='y', lowBound=0)\n",
    "z = pulp.LpVariable(name='z', lowBound=0)"
   ]
  },
  {
   "cell_type": "markdown",
   "metadata": {},
   "source": [
    "パラメータlowBoundは変数の下限です．\n",
    "線形最適化問題を記述する際は通常，変数の下限・上限も制約式として記述します．\n",
    "しかし多くの最適化ソフトウェアでは，変数を設定する際に下限・上限も設定できます．\n",
    "PuLPも例外ではないようです．\n",
    "\n",
    "次に，問題に目的関数を加えます．"
   ]
  },
  {
   "cell_type": "code",
   "execution_count": 4,
   "metadata": {
    "collapsed": true
   },
   "outputs": [],
   "source": [
    "LP += 3 * x + 4 * y + 2 * z"
   ]
  },
  {
   "cell_type": "markdown",
   "metadata": {},
   "source": [
    "問題に線形式（の表現）を加えると，最初のものが目的関数として設定されるようです．\n",
    "\n",
    "次に，問題に制約を加えます．"
   ]
  },
  {
   "cell_type": "code",
   "execution_count": 5,
   "metadata": {
    "collapsed": false
   },
   "outputs": [],
   "source": [
    "LP += 2 * x <= 4\n",
    "LP += x + 2 * z <= 8\n",
    "LP += 3 * y + z <= 6"
   ]
  },
  {
   "cell_type": "markdown",
   "metadata": {},
   "source": [
    "続けて問題に線形不等式（あるいは等式）を加えると，制約として追加できるようです．\n",
    "これで問題の設定は完了です．\n",
    "\n",
    "PuLPの問題のinstanceを，Pythonのprintで表示してみます．"
   ]
  },
  {
   "cell_type": "code",
   "execution_count": 6,
   "metadata": {
    "collapsed": false
   },
   "outputs": [
    {
     "name": "stdout",
     "output_type": "stream",
     "text": [
      "LP_example:\n",
      "MAXIMIZE\n",
      "3*x + 4*y + 2*z + 0\n",
      "SUBJECT TO\n",
      "_C1: 2 x <= 4\n",
      "\n",
      "_C2: x + 2 z <= 8\n",
      "\n",
      "_C3: 3 y + z <= 6\n",
      "\n",
      "VARIABLES\n",
      "x Continuous\n",
      "y Continuous\n",
      "z Continuous\n",
      "\n"
     ]
    }
   ],
   "source": [
    "print(LP)"
   ]
  },
  {
   "cell_type": "markdown",
   "metadata": {},
   "source": [
    "どうやらこういう形式で表示されるようです．\n",
    "\n",
    "問題を設定（あるいは入力）できたので，最適解を求めてみます．\n",
    "最適化のメソッドはsolve()です．"
   ]
  },
  {
   "cell_type": "code",
   "execution_count": 7,
   "metadata": {
    "collapsed": false
   },
   "outputs": [
    {
     "data": {
      "text/plain": [
       "1"
      ]
     },
     "execution_count": 7,
     "metadata": {},
     "output_type": "execute_result"
    }
   ],
   "source": [
    "LP.solve()"
   ]
  },
  {
   "cell_type": "markdown",
   "metadata": {},
   "source": [
    "正常に解けると，1が返ってくるみたいです．\n",
    "問題の設定によっては「解がない」「解はあるけれど際限なく最大化（あるいは最小化）できる」ということもあるので，その場合には別の値が返ってくることでしょう．\n",
    "\n",
    "最後に，最適解を確認します．"
   ]
  },
  {
   "cell_type": "code",
   "execution_count": 8,
   "metadata": {
    "collapsed": false
   },
   "outputs": [
    {
     "name": "stdout",
     "output_type": "stream",
     "text": [
      "2.0 1.0 3.0\n"
     ]
    }
   ],
   "source": [
    "print(x.value(), y.value(), z.value())"
   ]
  },
  {
   "cell_type": "markdown",
   "metadata": {},
   "source": [
    "地味ですが，最適解を確認できました．\n",
    "最適値は最適解から簡単に得られます．"
   ]
  },
  {
   "cell_type": "markdown",
   "metadata": {},
   "source": [
    "## 次に整数最適化問題を解いてみる"
   ]
  },
  {
   "cell_type": "markdown",
   "metadata": {},
   "source": [
    "次は以下の整数最適化問題\n",
    "$$\n",
    "\\text{max. } 16 x_a + 19 x_b + 23 x_c + 28 x_d\n",
    "$$\n",
    "$$\n",
    "\\text{s. t. } 2 x_a + 3 x_b + 4 x_c + 5 x_d \\le 7,\n",
    "$$\n",
    "$$\n",
    "x_a, \\ x_b, \\ x_c, \\ x_d \\in \\{0, 1\\}\n",
    "$$\n",
    "を解いてみる．\n",
    "この問題は俗に0-1ナップサック問題とよばれるものの一例である．\n",
    "\n",
    "今度は問題のinstanceをknapという名前にする．\n",
    "問題と変数のinstanceを作る．"
   ]
  },
  {
   "cell_type": "code",
   "execution_count": 10,
   "metadata": {
    "collapsed": true
   },
   "outputs": [],
   "source": [
    "knap = pulp.LpProblem(name='01knapsack', sense=pulp.LpMaximize)\n",
    "x_a = pulp.LpVariable(name='x_a', cat='Binary')\n",
    "x_b = pulp.LpVariable(name='x_b', cat='Binary')\n",
    "x_c = pulp.LpVariable(name='x_c', cat='Binary')\n",
    "x_d = pulp.LpVariable(name='x_d', cat='Binary')"
   ]
  },
  {
   "cell_type": "markdown",
   "metadata": {},
   "source": [
    "メソッドLpVariableのパラメータcatは変数種類である．\n",
    "連続変数はContinuous，整数変数はInteger，Binary変数はBinaryである．\n",
    "省略するとデフォルト値のContinuousが適用されるみたいである．\n",
    "よって先ほどの線形最適化問題の場合には上手くいっていた．\n",
    "\n",
    "次に制約を加えて問題を表示する．"
   ]
  },
  {
   "cell_type": "code",
   "execution_count": 11,
   "metadata": {
    "collapsed": false
   },
   "outputs": [
    {
     "name": "stdout",
     "output_type": "stream",
     "text": [
      "01knapsack:\n",
      "MAXIMIZE\n",
      "16*x_a + 19*x_b + 23*x_c + 28*x_d + 0\n",
      "SUBJECT TO\n",
      "_C1: 2 x_a + 3 x_b + 4 x_c + 5 x_d <= 7\n",
      "\n",
      "VARIABLES\n",
      "0 <= x_a <= 1 Integer\n",
      "0 <= x_b <= 1 Integer\n",
      "0 <= x_c <= 1 Integer\n",
      "0 <= x_d <= 1 Integer\n",
      "\n"
     ]
    }
   ],
   "source": [
    "knap += 16 * x_a + 19 * x_b + 23 * x_c + 28 * x_d\n",
    "knap += 2 * x_a + 3 * x_b + 4 * x_c + 5 * x_d <= 7\n",
    "\n",
    "print(knap)"
   ]
  },
  {
   "cell_type": "markdown",
   "metadata": {},
   "source": [
    "さらに最適化して，得られた最適解も確認する．"
   ]
  },
  {
   "cell_type": "code",
   "execution_count": 12,
   "metadata": {
    "collapsed": false
   },
   "outputs": [
    {
     "name": "stdout",
     "output_type": "stream",
     "text": [
      "1.0 0.0 0.0 1.0\n"
     ]
    }
   ],
   "source": [
    "knap.solve()\n",
    "\n",
    "print(x_a.value(), x_b.value(), x_c.value(), x_d.value())"
   ]
  },
  {
   "cell_type": "markdown",
   "metadata": {},
   "source": [
    "## Google code jam 2016 round 1BのC問題Technobubbleを解いてみる"
   ]
  },
  {
   "cell_type": "markdown",
   "metadata": {},
   "source": [
    "問題Technobubbleの説明は\n",
    "https://code.google.com/codejam/contest/11254486/dashboard#s=p2\n",
    "にあるので，説明は省略する．\n",
    "ものすごくざっくり言うと，2単語からなるトピックがたくさん与えられるので偽物の最大値を答えよ，という問題である．\n",
    "\n",
    "問題のSampleの1つ目は  \n",
    "HYDROCARBON COMBUSTION,  \n",
    "QUAIL BEHAVIOR,  \n",
    "QUAIL COMBUSTION,  \n",
    "という3つのトピックである．\n",
    "\n",
    "$p$番目のトピックが偽物であるとき1，そうでないとき0となる変数$x_p$を用意する．\n",
    "すると，問題の目的はすべてのトピック$p$に関する$x_p$の和の最大化である．\n",
    "問題の設定から，1つ目の単語のそれぞれに関して，それを使っているトピックのうち少なくとも1つは本物でなければならない．\n",
    "これを変数$x_p$を用いて表すと，1つ目の単語$w$それぞれに関して，\n",
    "\n",
    "（$w$を使っているトピック$p$に関する$x_p$の和）$\\le$（$w$を使っているトピックの数）$-1$\n",
    "\n",
    "となる．\n",
    "2つ目の単語に関しても同様である．\n",
    "これらが，変数$x_p$が満たすべき制約となる．\n",
    "\n",
    "上記の具体的な問題例を上記と同様の整数最適化問題として定式化すると，\n",
    "$$\n",
    "\\text{max. } x_1 + x_2 + x_3\n",
    "$$\n",
    "$$\n",
    "\\text{s. t. } x_1 \\le 0, \\quad \\text{HYDROCARBONは，1つ目の単語として，トピック1のみで使われているから}\n",
    "$$\n",
    "$$\n",
    "x_2 + x_3 \\le 1, \\quad \\text{QUAILは，1つ目の単語として，トピック2と3で使われているから}\n",
    "$$\n",
    "$$ x_1 + x_3 \\le 1, \\quad \\text{COMBUSTIONは，2つ目の単語として，トピック1と3で使われているから}$$\n",
    "$$ x_2 \\le 0, \\quad \\text{BEHAVIORは，2つ目の単語として，トピック1のみで使われているから}$$\n",
    "$$ x_1, \\ x_2, \\ x_3 \\in \\{0,1\\}$$\n",
    "となる．\n",
    "\n",
    "さらに，一般的な定式化を示すためにまず集合の記号を用意する．\n",
    "\n",
    "1つ目の単語の集合を$W_1 = \\{w_{11},w_{12},\\dots,w_{1L}\\}$とし，2つ目の単語の集合を$W_2 = \\{w_{21},w_{22},\\dots,w_{2M}\\}$とする．\n",
    "ここで$L, M$はそれぞれ1つ目の単語の数，2つ目の単語の数である．\n",
    "\n",
    "トピックの集合を$P = \\{p_1,p_2,\\dots,p_N\\}$とする．\n",
    "ここで$N$はトピックの数である．\n",
    "そして$p_n \\in W_1 \\times W_2 \\ (n \\in \\{1,\\dots,N\\})$である．\n",
    "\n",
    "さらに，単語$w \\in W_1$が使われているトピックの集合を$Q_1(w) \\subset P$とする．\n",
    "同様に，単語$w \\in W_2$が使われているトピックの集合を$Q_2(w) \\subset P$とする．\n",
    "\n",
    "以上の記号の準備のもとに，問題Technobubbleを整数最適化問題として記述すると\n",
    "$$ \\text{max. } \\sum_{p \\in P} x_p$$\n",
    "$$ \\text{s. t.} \\ \\sum_{p \\in Q_1(w)} x_p \\le |Q_1(w)| - 1 \\quad (w \\in W_1) $$\n",
    "$$\\sum_{p \\in Q_2(w)} x_p \\le |Q_2(w)| - 1 \\quad (w \\in W_2) $$\n",
    "$$x_n \\in \\{0,1\\} \\quad (n \\in \\{1,\\dots,N\\})$$\n",
    "となる．\n",
    "\n",
    "では，この定式化に基づいて，PuLPでTechnobubbleを解いてみる．\n",
    "\n",
    "まず，Sampleの1つ目をtupleのlistで用意する．"
   ]
  },
  {
   "cell_type": "code",
   "execution_count": 17,
   "metadata": {
    "collapsed": false
   },
   "outputs": [],
   "source": [
    "topics1 = [('HYDROCARBON', 'COMBUSTION'),\n",
    "('QUAIL', 'BEHAVIOR'),\n",
    "('QUAIL', 'COMBUSTION')]"
   ]
  },
  {
   "cell_type": "markdown",
   "metadata": {},
   "source": [
    "次に，トピックの集合を入力として，上記の定式化に基づいて解を出力する関数solveを以下に定義する．"
   ]
  },
  {
   "cell_type": "code",
   "execution_count": 16,
   "metadata": {
    "collapsed": true
   },
   "outputs": [],
   "source": [
    "def solve(topic):\n",
    "    '''\n",
    "    まず，定式化におけるW_1, W_2, Q_1, Q_2を作る．\n",
    "    '''\n",
    "    first_word = {} # 1つ目の単語の集合W_1に対応する辞書\n",
    "    second_word = {} # 2つ目の単語の集合W_2に対応する辞書\n",
    "    topic_using_first_word = {} # 1つ目の単語wを使っているトピックを引き出すための辞書，Q_1に対応\n",
    "    topic_using_second_word = {} # 2つ目の単語wを使っているトピックを引き出すための辞書，Q_2に対応\n",
    "    for i in range(len(topic)):\n",
    "        (w1, w2) = topic[i]\n",
    "        first_word[w1] = True # トピックに現れたら辞書first_wordのkeyとして登録\n",
    "        second_word[w2] = True # トピックに現れたら辞書second_wordのkeyとして登録\n",
    "        if w1 not in topic_using_first_word:\n",
    "            topic_using_first_word[w1] = [i] # 1つ目の単語w1が使われているトピックを覚える\n",
    "        else:\n",
    "            topic_using_first_word[w1].append(i) # 1つ目の単語w1が使われているトピックを覚える\n",
    "        if w2 not in topic_using_second_word:\n",
    "            topic_using_second_word[w2] = [i] # 2つ目の単語w1が使われているトピックを覚える\n",
    "        else:\n",
    "            topic_using_second_word[w2].append(i) # 2つ目の単語w1が使われているトピックを覚える\n",
    "\n",
    "    '''\n",
    "    ここまでで，定式化に必要な集合を作り終えたので，以下でPuLPを用いて解く．\n",
    "    '''\n",
    "    problem = pulp.LpProblem(name='max fake', sense=pulp.LpMaximize) # 最大化問題として設定\n",
    "    x = {}\n",
    "    for i in range(len(topic)):\n",
    "        x[i] = pulp.LpVariable(name='t'+str(i), cat='Binary') # それぞれの変数x_p（ここでの名前は'tp'）をBinary変数として設定\n",
    "    problem += pulp.LpAffineExpression([(x[i], 1) for i in range(len(topic))]) # ここで目的関数を設定，メソッドLpAffineExpressionの使い方の説明は割愛\n",
    "    for w1 in first_word: # 1つ目の単語のそれぞれに関して制約を加える\n",
    "        problem += pulp.LpAffineExpression([(x[i], 1) for i in topic_using_first_word[w1]]) <= len(topic_using_first_word[w1]) - 1\n",
    "    for w2 in second_word: # 2つ目の単語のそれぞれに関して制約を加える\n",
    "        problem += pulp.LpAffineExpression([(x[i], 1) for i in topic_using_second_word[w2]]) <= len(topic_using_second_word[w2]) - 1\n",
    "    problem.solve() # 最適化\n",
    "\n",
    "    return sum([x[i].value() for i in range(len(topic))]) # 最適解から最適値を計算，リスト内包表記はこういうときに便利"
   ]
  },
  {
   "cell_type": "markdown",
   "metadata": {},
   "source": [
    "関数を定義したら，先ほどのサンプルで解いてみる．"
   ]
  },
  {
   "cell_type": "code",
   "execution_count": 19,
   "metadata": {
    "collapsed": false
   },
   "outputs": [
    {
     "data": {
      "text/plain": [
       "1"
      ]
     },
     "execution_count": 19,
     "metadata": {},
     "output_type": "execute_result"
    }
   ],
   "source": [
    "int(solve(topics1)) # 最後の出力はGoogle code jamの形式に合わせて整数で"
   ]
  },
  {
   "cell_type": "markdown",
   "metadata": {},
   "source": [
    "ここではSampleの1つ目を解くだけにとどめるが，もちろんLargeも実用時間内に解ける．\n",
    "宮本の手元のパソコンで解いたら計算時間は2.5秒くらいであった．\n",
    "\n",
    "一般には，大規模な整数最適化問題の最適解の発見（保証）には多大な時間がかかる．\n",
    "しかし，この問題Technobubbleを上記の方法で定式化したものは完全ユニモジュラー（Totally Unimodular）という性質を満たすので，高速に解ける．\n",
    "完全ユニモジュラー性の証明は自分で考えてみよう！（わかっている人には自明かもしれない．）\n",
    "この性質から，実質的には線形最適化で最適解が見つかっている．\n",
    "\n",
    "数理最適化モジュールをただ使えるというだけでなく，「上手く使える」ようになるためには完全ユニモジュラーのような概念の修得・理解が大事である．\n",
    "完全ユニモジュラーを含む数理最適化の理論的側面は，大学院生向けの講義「数理最適化特論」で扱っている．\n",
    "興味があったらいずれ履修してみて欲しい．\n",
    "\n",
    "最後に，今更言うことでもないが，Google code jamで数理最適化ソルバーを用いるのは反則である．"
   ]
  }
 ],
 "metadata": {
  "kernelspec": {
   "display_name": "Python 3",
   "language": "python",
   "name": "python3"
  },
  "language_info": {
   "codemirror_mode": {
    "name": "ipython",
    "version": 3
   },
   "file_extension": ".py",
   "mimetype": "text/x-python",
   "name": "python",
   "nbconvert_exporter": "python",
   "pygments_lexer": "ipython3",
   "version": "3.5.1"
  }
 },
 "nbformat": 4,
 "nbformat_minor": 0
}
